{
  "nbformat": 4,
  "nbformat_minor": 0,
  "metadata": {
    "colab": {
      "name": "ipca",
      "provenance": [],
      "collapsed_sections": []
    },
    "kernelspec": {
      "name": "python3",
      "display_name": "Python 3"
    }
  },
  "cells": [
    {
      "cell_type": "code",
      "metadata": {
        "id": "IqxH1K7ixWJc"
      },
      "source": [
        "import pandas as pd"
      ],
      "execution_count": null,
      "outputs": []
    },
    {
      "cell_type": "code",
      "metadata": {
        "id": "dnv6TW2j4Lan"
      },
      "source": [
        "ipca = pd.read_json('http://api.bcb.gov.br/dados/serie/bcdata.sgs.4447/dados?formato=json')"
      ],
      "execution_count": null,
      "outputs": []
    },
    {
      "cell_type": "code",
      "metadata": {
        "id": "iE-GgS3t45Ck",
        "colab": {
          "base_uri": "https://localhost:8080/",
          "height": 419
        },
        "outputId": "767cb1f5-0e97-485c-c851-206aac666616"
      },
      "source": [
        "ipca"
      ],
      "execution_count": null,
      "outputs": [
        {
          "output_type": "execute_result",
          "data": {
            "text/html": [
              "<div>\n",
              "<style scoped>\n",
              "    .dataframe tbody tr th:only-of-type {\n",
              "        vertical-align: middle;\n",
              "    }\n",
              "\n",
              "    .dataframe tbody tr th {\n",
              "        vertical-align: top;\n",
              "    }\n",
              "\n",
              "    .dataframe thead th {\n",
              "        text-align: right;\n",
              "    }\n",
              "</style>\n",
              "<table border=\"1\" class=\"dataframe\">\n",
              "  <thead>\n",
              "    <tr style=\"text-align: right;\">\n",
              "      <th></th>\n",
              "      <th>data</th>\n",
              "      <th>valor</th>\n",
              "    </tr>\n",
              "  </thead>\n",
              "  <tbody>\n",
              "    <tr>\n",
              "      <th>0</th>\n",
              "      <td>01/01/1992</td>\n",
              "      <td>24.81</td>\n",
              "    </tr>\n",
              "    <tr>\n",
              "      <th>1</th>\n",
              "      <td>01/02/1992</td>\n",
              "      <td>24.23</td>\n",
              "    </tr>\n",
              "    <tr>\n",
              "      <th>2</th>\n",
              "      <td>01/03/1992</td>\n",
              "      <td>21.14</td>\n",
              "    </tr>\n",
              "    <tr>\n",
              "      <th>3</th>\n",
              "      <td>01/04/1992</td>\n",
              "      <td>21.11</td>\n",
              "    </tr>\n",
              "    <tr>\n",
              "      <th>4</th>\n",
              "      <td>01/05/1992</td>\n",
              "      <td>26.08</td>\n",
              "    </tr>\n",
              "    <tr>\n",
              "      <th>...</th>\n",
              "      <td>...</td>\n",
              "      <td>...</td>\n",
              "    </tr>\n",
              "    <tr>\n",
              "      <th>340</th>\n",
              "      <td>01/05/2020</td>\n",
              "      <td>0.05</td>\n",
              "    </tr>\n",
              "    <tr>\n",
              "      <th>341</th>\n",
              "      <td>01/06/2020</td>\n",
              "      <td>0.43</td>\n",
              "    </tr>\n",
              "    <tr>\n",
              "      <th>342</th>\n",
              "      <td>01/07/2020</td>\n",
              "      <td>0.63</td>\n",
              "    </tr>\n",
              "    <tr>\n",
              "      <th>343</th>\n",
              "      <td>01/08/2020</td>\n",
              "      <td>0.71</td>\n",
              "    </tr>\n",
              "    <tr>\n",
              "      <th>344</th>\n",
              "      <td>01/09/2020</td>\n",
              "      <td>1.51</td>\n",
              "    </tr>\n",
              "  </tbody>\n",
              "</table>\n",
              "<p>345 rows × 2 columns</p>\n",
              "</div>"
            ],
            "text/plain": [
              "           data  valor\n",
              "0    01/01/1992  24.81\n",
              "1    01/02/1992  24.23\n",
              "2    01/03/1992  21.14\n",
              "3    01/04/1992  21.11\n",
              "4    01/05/1992  26.08\n",
              "..          ...    ...\n",
              "340  01/05/2020   0.05\n",
              "341  01/06/2020   0.43\n",
              "342  01/07/2020   0.63\n",
              "343  01/08/2020   0.71\n",
              "344  01/09/2020   1.51\n",
              "\n",
              "[345 rows x 2 columns]"
            ]
          },
          "metadata": {
            "tags": []
          },
          "execution_count": 4
        }
      ]
    },
    {
      "cell_type": "code",
      "metadata": {
        "id": "x4pyLnEG49Eh",
        "colab": {
          "base_uri": "https://localhost:8080/",
          "height": 282
        },
        "outputId": "db8c49b6-1789-478c-f033-ca9167425ef7"
      },
      "source": [
        "ipca.plot(kind='line')"
      ],
      "execution_count": null,
      "outputs": [
        {
          "output_type": "execute_result",
          "data": {
            "text/plain": [
              "<matplotlib.axes._subplots.AxesSubplot at 0x7f2d154854a8>"
            ]
          },
          "metadata": {
            "tags": []
          },
          "execution_count": 5
        },
        {
          "output_type": "display_data",
          "data": {
            "image/png": "[encoded data removed]",
            "text/plain": [
              "<Figure size 432x288 with 1 Axes>"
            ]
          },
          "metadata": {
            "tags": [],
            "needs_background": "light"
          }
        }
      ]
    },
    {
      "cell_type": "code",
      "metadata": {
        "id": "zqofurQl49Vy"
      },
      "source": [
        "ipca ['data']= pd.to_datetime(ipca['data'],dayfirst=True)"
      ],
      "execution_count": null,
      "outputs": []
    },
    {
      "cell_type": "code",
      "metadata": {
        "id": "6_ATQqFh4-Gc"
      },
      "source": [
        "ipca.set_index(ipca['data'],drop=True,inplace=True)"
      ],
      "execution_count": null,
      "outputs": []
    },
    {
      "cell_type": "code",
      "metadata": {
        "id": "VyUNXOac64Fk"
      },
      "source": [
        "ipca = ipca.drop('data',axis=1)"
      ],
      "execution_count": null,
      "outputs": []
    },
    {
      "cell_type": "code",
      "metadata": {
        "id": "cn0qUhhe64g7",
        "colab": {
          "base_uri": "https://localhost:8080/",
          "height": 545
        },
        "outputId": "f5f1218a-5a2c-4824-eb46-8a180aa3dd04"
      },
      "source": [
        "ipca.head(15)"
      ],
      "execution_count": null,
      "outputs": [
        {
          "output_type": "execute_result",
          "data": {
            "text/html": [
              "<div>\n",
              "<style scoped>\n",
              "    .dataframe tbody tr th:only-of-type {\n",
              "        vertical-align: middle;\n",
              "    }\n",
              "\n",
              "    .dataframe tbody tr th {\n",
              "        vertical-align: top;\n",
              "    }\n",
              "\n",
              "    .dataframe thead th {\n",
              "        text-align: right;\n",
              "    }\n",
              "</style>\n",
              "<table border=\"1\" class=\"dataframe\">\n",
              "  <thead>\n",
              "    <tr style=\"text-align: right;\">\n",
              "      <th></th>\n",
              "      <th>valor</th>\n",
              "    </tr>\n",
              "    <tr>\n",
              "      <th>data</th>\n",
              "      <th></th>\n",
              "    </tr>\n",
              "  </thead>\n",
              "  <tbody>\n",
              "    <tr>\n",
              "      <th>1992-01-01</th>\n",
              "      <td>24.81</td>\n",
              "    </tr>\n",
              "    <tr>\n",
              "      <th>1992-02-01</th>\n",
              "      <td>24.23</td>\n",
              "    </tr>\n",
              "    <tr>\n",
              "      <th>1992-03-01</th>\n",
              "      <td>21.14</td>\n",
              "    </tr>\n",
              "    <tr>\n",
              "      <th>1992-04-01</th>\n",
              "      <td>21.11</td>\n",
              "    </tr>\n",
              "    <tr>\n",
              "      <th>1992-05-01</th>\n",
              "      <td>26.08</td>\n",
              "    </tr>\n",
              "    <tr>\n",
              "      <th>1992-06-01</th>\n",
              "      <td>20.95</td>\n",
              "    </tr>\n",
              "    <tr>\n",
              "      <th>1992-07-01</th>\n",
              "      <td>21.07</td>\n",
              "    </tr>\n",
              "    <tr>\n",
              "      <th>1992-08-01</th>\n",
              "      <td>22.30</td>\n",
              "    </tr>\n",
              "    <tr>\n",
              "      <th>1992-09-01</th>\n",
              "      <td>25.52</td>\n",
              "    </tr>\n",
              "    <tr>\n",
              "      <th>1992-10-01</th>\n",
              "      <td>27.38</td>\n",
              "    </tr>\n",
              "    <tr>\n",
              "      <th>1992-11-01</th>\n",
              "      <td>24.97</td>\n",
              "    </tr>\n",
              "    <tr>\n",
              "      <th>1992-12-01</th>\n",
              "      <td>27.03</td>\n",
              "    </tr>\n",
              "    <tr>\n",
              "      <th>1993-01-01</th>\n",
              "      <td>28.63</td>\n",
              "    </tr>\n",
              "    <tr>\n",
              "      <th>1993-02-01</th>\n",
              "      <td>23.76</td>\n",
              "    </tr>\n",
              "    <tr>\n",
              "      <th>1993-03-01</th>\n",
              "      <td>27.68</td>\n",
              "    </tr>\n",
              "  </tbody>\n",
              "</table>\n",
              "</div>"
            ],
            "text/plain": [
              "            valor\n",
              "data             \n",
              "1992-01-01  24.81\n",
              "1992-02-01  24.23\n",
              "1992-03-01  21.14\n",
              "1992-04-01  21.11\n",
              "1992-05-01  26.08\n",
              "1992-06-01  20.95\n",
              "1992-07-01  21.07\n",
              "1992-08-01  22.30\n",
              "1992-09-01  25.52\n",
              "1992-10-01  27.38\n",
              "1992-11-01  24.97\n",
              "1992-12-01  27.03\n",
              "1993-01-01  28.63\n",
              "1993-02-01  23.76\n",
              "1993-03-01  27.68"
            ]
          },
          "metadata": {
            "tags": []
          },
          "execution_count": 25
        }
      ]
    },
    {
      "cell_type": "code",
      "metadata": {
        "id": "D1Jo2bR6B1Yb",
        "colab": {
          "base_uri": "https://localhost:8080/",
          "height": 1000
        },
        "outputId": "36d71750-1aa6-4b3a-f85c-42b8c7db478a"
      },
      "source": [
        "print(ipca.index.values)"
      ],
      "execution_count": null,
      "outputs": [
        {
          "output_type": "stream",
          "text": [
            "['1992-01-01T00:00:00.000000000' '1992-02-01T00:00:00.000000000'\n",
            " '1992-03-01T00:00:00.000000000' '1992-04-01T00:00:00.000000000'\n",
            " '1992-05-01T00:00:00.000000000' '1992-06-01T00:00:00.000000000'\n",
            " '1992-07-01T00:00:00.000000000' '1992-08-01T00:00:00.000000000'\n",
            " '1992-09-01T00:00:00.000000000' '1992-10-01T00:00:00.000000000'\n",
            " '1992-11-01T00:00:00.000000000' '1992-12-01T00:00:00.000000000'\n",
            " '1993-01-01T00:00:00.000000000' '1993-02-01T00:00:00.000000000'\n",
            " '1993-03-01T00:00:00.000000000' '1993-04-01T00:00:00.000000000'\n",
            " '1993-05-01T00:00:00.000000000' '1993-06-01T00:00:00.000000000'\n",
            " '1993-07-01T00:00:00.000000000' '1993-08-01T00:00:00.000000000'\n",
            " '1993-09-01T00:00:00.000000000' '1993-10-01T00:00:00.000000000'\n",
            " '1993-11-01T00:00:00.000000000' '1993-12-01T00:00:00.000000000'\n",
            " '1994-01-01T00:00:00.000000000' '1994-02-01T00:00:00.000000000'\n",
            " '1994-03-01T00:00:00.000000000' '1994-04-01T00:00:00.000000000'\n",
            " '1994-05-01T00:00:00.000000000' '1994-06-01T00:00:00.000000000'\n",
            " '1994-07-01T00:00:00.000000000' '1994-08-01T00:00:00.000000000'\n",
            " '1994-09-01T00:00:00.000000000' '1994-10-01T00:00:00.000000000'\n",
            " '1994-11-01T00:00:00.000000000' '1994-12-01T00:00:00.000000000'\n",
            " '1995-01-01T00:00:00.000000000' '1995-02-01T00:00:00.000000000'\n",
            " '1995-03-01T00:00:00.000000000' '1995-04-01T00:00:00.000000000'\n",
            " '1995-05-01T00:00:00.000000000' '1995-06-01T00:00:00.000000000'\n",
            " '1995-07-01T00:00:00.000000000' '1995-08-01T00:00:00.000000000'\n",
            " '1995-09-01T00:00:00.000000000' '1995-10-01T00:00:00.000000000'\n",
            " '1995-11-01T00:00:00.000000000' '1995-12-01T00:00:00.000000000'\n",
            " '1996-01-01T00:00:00.000000000' '1996-02-01T00:00:00.000000000'\n",
            " '1996-03-01T00:00:00.000000000' '1996-04-01T00:00:00.000000000'\n",
            " '1996-05-01T00:00:00.000000000' '1996-06-01T00:00:00.000000000'\n",
            " '1996-07-01T00:00:00.000000000' '1996-08-01T00:00:00.000000000'\n",
            " '1996-09-01T00:00:00.000000000' '1996-10-01T00:00:00.000000000'\n",
            " '1996-11-01T00:00:00.000000000' '1996-12-01T00:00:00.000000000'\n",
            " '1997-01-01T00:00:00.000000000' '1997-02-01T00:00:00.000000000'\n",
            " '1997-03-01T00:00:00.000000000' '1997-04-01T00:00:00.000000000'\n",
            " '1997-05-01T00:00:00.000000000' '1997-06-01T00:00:00.000000000'\n",
            " '1997-07-01T00:00:00.000000000' '1997-08-01T00:00:00.000000000'\n",
            " '1997-09-01T00:00:00.000000000' '1997-10-01T00:00:00.000000000'\n",
            " '1997-11-01T00:00:00.000000000' '1997-12-01T00:00:00.000000000'\n",
            " '1998-01-01T00:00:00.000000000' '1998-02-01T00:00:00.000000000'\n",
            " '1998-03-01T00:00:00.000000000' '1998-04-01T00:00:00.000000000'\n",
            " '1998-05-01T00:00:00.000000000' '1998-06-01T00:00:00.000000000'\n",
            " '1998-07-01T00:00:00.000000000' '1998-08-01T00:00:00.000000000'\n",
            " '1998-09-01T00:00:00.000000000' '1998-10-01T00:00:00.000000000'\n",
            " '1998-11-01T00:00:00.000000000' '1998-12-01T00:00:00.000000000'\n",
            " '1999-01-01T00:00:00.000000000' '1999-02-01T00:00:00.000000000'\n",
            " '1999-03-01T00:00:00.000000000' '1999-04-01T00:00:00.000000000'\n",
            " '1999-05-01T00:00:00.000000000' '1999-06-01T00:00:00.000000000'\n",
            " '1999-07-01T00:00:00.000000000' '1999-08-01T00:00:00.000000000'\n",
            " '1999-09-01T00:00:00.000000000' '1999-10-01T00:00:00.000000000'\n",
            " '1999-11-01T00:00:00.000000000' '1999-12-01T00:00:00.000000000'\n",
            " '2000-01-01T00:00:00.000000000' '2000-02-01T00:00:00.000000000'\n",
            " '2000-03-01T00:00:00.000000000' '2000-04-01T00:00:00.000000000'\n",
            " '2000-05-01T00:00:00.000000000' '2000-06-01T00:00:00.000000000'\n",
            " '2000-07-01T00:00:00.000000000' '2000-08-01T00:00:00.000000000'\n",
            " '2000-09-01T00:00:00.000000000' '2000-10-01T00:00:00.000000000'\n",
            " '2000-11-01T00:00:00.000000000' '2000-12-01T00:00:00.000000000'\n",
            " '2001-01-01T00:00:00.000000000' '2001-02-01T00:00:00.000000000'\n",
            " '2001-03-01T00:00:00.000000000' '2001-04-01T00:00:00.000000000'\n",
            " '2001-05-01T00:00:00.000000000' '2001-06-01T00:00:00.000000000'\n",
            " '2001-07-01T00:00:00.000000000' '2001-08-01T00:00:00.000000000'\n",
            " '2001-09-01T00:00:00.000000000' '2001-10-01T00:00:00.000000000'\n",
            " '2001-11-01T00:00:00.000000000' '2001-12-01T00:00:00.000000000'\n",
            " '2002-01-01T00:00:00.000000000' '2002-02-01T00:00:00.000000000'\n",
            " '2002-03-01T00:00:00.000000000' '2002-04-01T00:00:00.000000000'\n",
            " '2002-05-01T00:00:00.000000000' '2002-06-01T00:00:00.000000000'\n",
            " '2002-07-01T00:00:00.000000000' '2002-08-01T00:00:00.000000000'\n",
            " '2002-09-01T00:00:00.000000000' '2002-10-01T00:00:00.000000000'\n",
            " '2002-11-01T00:00:00.000000000' '2002-12-01T00:00:00.000000000'\n",
            " '2003-01-01T00:00:00.000000000' '2003-02-01T00:00:00.000000000'\n",
            " '2003-03-01T00:00:00.000000000' '2003-04-01T00:00:00.000000000'\n",
            " '2003-05-01T00:00:00.000000000' '2003-06-01T00:00:00.000000000'\n",
            " '2003-07-01T00:00:00.000000000' '2003-08-01T00:00:00.000000000'\n",
            " '2003-09-01T00:00:00.000000000' '2003-10-01T00:00:00.000000000'\n",
            " '2003-11-01T00:00:00.000000000' '2003-12-01T00:00:00.000000000'\n",
            " '2004-01-01T00:00:00.000000000' '2004-02-01T00:00:00.000000000'\n",
            " '2004-03-01T00:00:00.000000000' '2004-04-01T00:00:00.000000000'\n",
            " '2004-05-01T00:00:00.000000000' '2004-06-01T00:00:00.000000000'\n",
            " '2004-07-01T00:00:00.000000000' '2004-08-01T00:00:00.000000000'\n",
            " '2004-09-01T00:00:00.000000000' '2004-10-01T00:00:00.000000000'\n",
            " '2004-11-01T00:00:00.000000000' '2004-12-01T00:00:00.000000000'\n",
            " '2005-01-01T00:00:00.000000000' '2005-02-01T00:00:00.000000000'\n",
            " '2005-03-01T00:00:00.000000000' '2005-04-01T00:00:00.000000000'\n",
            " '2005-05-01T00:00:00.000000000' '2005-06-01T00:00:00.000000000'\n",
            " '2005-07-01T00:00:00.000000000' '2005-08-01T00:00:00.000000000'\n",
            " '2005-09-01T00:00:00.000000000' '2005-10-01T00:00:00.000000000'\n",
            " '2005-11-01T00:00:00.000000000' '2005-12-01T00:00:00.000000000'\n",
            " '2006-01-01T00:00:00.000000000' '2006-02-01T00:00:00.000000000'\n",
            " '2006-03-01T00:00:00.000000000' '2006-04-01T00:00:00.000000000'\n",
            " '2006-05-01T00:00:00.000000000' '2006-06-01T00:00:00.000000000'\n",
            " '2006-07-01T00:00:00.000000000' '2006-08-01T00:00:00.000000000'\n",
            " '2006-09-01T00:00:00.000000000' '2006-10-01T00:00:00.000000000'\n",
            " '2006-11-01T00:00:00.000000000' '2006-12-01T00:00:00.000000000'\n",
            " '2007-01-01T00:00:00.000000000' '2007-02-01T00:00:00.000000000'\n",
            " '2007-03-01T00:00:00.000000000' '2007-04-01T00:00:00.000000000'\n",
            " '2007-05-01T00:00:00.000000000' '2007-06-01T00:00:00.000000000'\n",
            " '2007-07-01T00:00:00.000000000' '2007-08-01T00:00:00.000000000'\n",
            " '2007-09-01T00:00:00.000000000' '2007-10-01T00:00:00.000000000'\n",
            " '2007-11-01T00:00:00.000000000' '2007-12-01T00:00:00.000000000'\n",
            " '2008-01-01T00:00:00.000000000' '2008-02-01T00:00:00.000000000'\n",
            " '2008-03-01T00:00:00.000000000' '2008-04-01T00:00:00.000000000'\n",
            " '2008-05-01T00:00:00.000000000' '2008-06-01T00:00:00.000000000'\n",
            " '2008-07-01T00:00:00.000000000' '2008-08-01T00:00:00.000000000'\n",
            " '2008-09-01T00:00:00.000000000' '2008-10-01T00:00:00.000000000'\n",
            " '2008-11-01T00:00:00.000000000' '2008-12-01T00:00:00.000000000'\n",
            " '2009-01-01T00:00:00.000000000' '2009-02-01T00:00:00.000000000'\n",
            " '2009-03-01T00:00:00.000000000' '2009-04-01T00:00:00.000000000'\n",
            " '2009-05-01T00:00:00.000000000' '2009-06-01T00:00:00.000000000'\n",
            " '2009-07-01T00:00:00.000000000' '2009-08-01T00:00:00.000000000'\n",
            " '2009-09-01T00:00:00.000000000' '2009-10-01T00:00:00.000000000'\n",
            " '2009-11-01T00:00:00.000000000' '2009-12-01T00:00:00.000000000'\n",
            " '2010-01-01T00:00:00.000000000' '2010-02-01T00:00:00.000000000'\n",
            " '2010-03-01T00:00:00.000000000' '2010-04-01T00:00:00.000000000'\n",
            " '2010-05-01T00:00:00.000000000' '2010-06-01T00:00:00.000000000'\n",
            " '2010-07-01T00:00:00.000000000' '2010-08-01T00:00:00.000000000'\n",
            " '2010-09-01T00:00:00.000000000' '2010-10-01T00:00:00.000000000'\n",
            " '2010-11-01T00:00:00.000000000' '2010-12-01T00:00:00.000000000'\n",
            " '2011-01-01T00:00:00.000000000' '2011-02-01T00:00:00.000000000'\n",
            " '2011-03-01T00:00:00.000000000' '2011-04-01T00:00:00.000000000'\n",
            " '2011-05-01T00:00:00.000000000' '2011-06-01T00:00:00.000000000'\n",
            " '2011-07-01T00:00:00.000000000' '2011-08-01T00:00:00.000000000'\n",
            " '2011-09-01T00:00:00.000000000' '2011-10-01T00:00:00.000000000'\n",
            " '2011-11-01T00:00:00.000000000' '2011-12-01T00:00:00.000000000'\n",
            " '2012-01-01T00:00:00.000000000' '2012-02-01T00:00:00.000000000'\n",
            " '2012-03-01T00:00:00.000000000' '2012-04-01T00:00:00.000000000'\n",
            " '2012-05-01T00:00:00.000000000' '2012-06-01T00:00:00.000000000'\n",
            " '2012-07-01T00:00:00.000000000' '2012-08-01T00:00:00.000000000'\n",
            " '2012-09-01T00:00:00.000000000' '2012-10-01T00:00:00.000000000'\n",
            " '2012-11-01T00:00:00.000000000' '2012-12-01T00:00:00.000000000'\n",
            " '2013-01-01T00:00:00.000000000' '2013-02-01T00:00:00.000000000'\n",
            " '2013-03-01T00:00:00.000000000' '2013-04-01T00:00:00.000000000'\n",
            " '2013-05-01T00:00:00.000000000' '2013-06-01T00:00:00.000000000'\n",
            " '2013-07-01T00:00:00.000000000' '2013-08-01T00:00:00.000000000'\n",
            " '2013-09-01T00:00:00.000000000' '2013-10-01T00:00:00.000000000'\n",
            " '2013-11-01T00:00:00.000000000' '2013-12-01T00:00:00.000000000'\n",
            " '2014-01-01T00:00:00.000000000' '2014-02-01T00:00:00.000000000'\n",
            " '2014-03-01T00:00:00.000000000' '2014-04-01T00:00:00.000000000'\n",
            " '2014-05-01T00:00:00.000000000' '2014-06-01T00:00:00.000000000'\n",
            " '2014-07-01T00:00:00.000000000' '2014-08-01T00:00:00.000000000'\n",
            " '2014-09-01T00:00:00.000000000' '2014-10-01T00:00:00.000000000'\n",
            " '2014-11-01T00:00:00.000000000' '2014-12-01T00:00:00.000000000'\n",
            " '2015-01-01T00:00:00.000000000' '2015-02-01T00:00:00.000000000'\n",
            " '2015-03-01T00:00:00.000000000' '2015-04-01T00:00:00.000000000'\n",
            " '2015-05-01T00:00:00.000000000' '2015-06-01T00:00:00.000000000'\n",
            " '2015-07-01T00:00:00.000000000' '2015-08-01T00:00:00.000000000'\n",
            " '2015-09-01T00:00:00.000000000' '2015-10-01T00:00:00.000000000'\n",
            " '2015-11-01T00:00:00.000000000' '2015-12-01T00:00:00.000000000'\n",
            " '2016-01-01T00:00:00.000000000' '2016-02-01T00:00:00.000000000'\n",
            " '2016-03-01T00:00:00.000000000' '2016-04-01T00:00:00.000000000'\n",
            " '2016-05-01T00:00:00.000000000' '2016-06-01T00:00:00.000000000'\n",
            " '2016-07-01T00:00:00.000000000' '2016-08-01T00:00:00.000000000'\n",
            " '2016-09-01T00:00:00.000000000' '2016-10-01T00:00:00.000000000'\n",
            " '2016-11-01T00:00:00.000000000' '2016-12-01T00:00:00.000000000'\n",
            " '2017-01-01T00:00:00.000000000' '2017-02-01T00:00:00.000000000'\n",
            " '2017-03-01T00:00:00.000000000' '2017-04-01T00:00:00.000000000'\n",
            " '2017-05-01T00:00:00.000000000' '2017-06-01T00:00:00.000000000'\n",
            " '2017-07-01T00:00:00.000000000' '2017-08-01T00:00:00.000000000'\n",
            " '2017-09-01T00:00:00.000000000' '2017-10-01T00:00:00.000000000'\n",
            " '2017-11-01T00:00:00.000000000' '2017-12-01T00:00:00.000000000'\n",
            " '2018-01-01T00:00:00.000000000' '2018-02-01T00:00:00.000000000'\n",
            " '2018-03-01T00:00:00.000000000' '2018-04-01T00:00:00.000000000'\n",
            " '2018-05-01T00:00:00.000000000' '2018-06-01T00:00:00.000000000'\n",
            " '2018-07-01T00:00:00.000000000' '2018-08-01T00:00:00.000000000'\n",
            " '2018-09-01T00:00:00.000000000' '2018-10-01T00:00:00.000000000'\n",
            " '2018-11-01T00:00:00.000000000' '2018-12-01T00:00:00.000000000'\n",
            " '2019-01-01T00:00:00.000000000' '2019-02-01T00:00:00.000000000'\n",
            " '2019-03-01T00:00:00.000000000' '2019-04-01T00:00:00.000000000'\n",
            " '2019-05-01T00:00:00.000000000' '2019-06-01T00:00:00.000000000'\n",
            " '2019-07-01T00:00:00.000000000' '2019-08-01T00:00:00.000000000'\n",
            " '2019-09-01T00:00:00.000000000' '2019-10-01T00:00:00.000000000'\n",
            " '2019-11-01T00:00:00.000000000' '2019-12-01T00:00:00.000000000'\n",
            " '2020-01-01T00:00:00.000000000' '2020-02-01T00:00:00.000000000'\n",
            " '2020-03-01T00:00:00.000000000' '2020-04-01T00:00:00.000000000'\n",
            " '2020-05-01T00:00:00.000000000' '2020-06-01T00:00:00.000000000'\n",
            " '2020-07-01T00:00:00.000000000' '2020-08-01T00:00:00.000000000'\n",
            " '2020-09-01T00:00:00.000000000']\n"
          ],
          "name": "stdout"
        }
      ]
    },
    {
      "cell_type": "code",
      "metadata": {
        "id": "oYgDryAjDhm2",
        "colab": {
          "base_uri": "https://localhost:8080/",
          "height": 390
        },
        "outputId": "989bd224-4909-46ff-9891-65b2f00d61ed"
      },
      "source": [
        "ipca.tail(10)"
      ],
      "execution_count": null,
      "outputs": [
        {
          "output_type": "execute_result",
          "data": {
            "text/html": [
              "<div>\n",
              "<style scoped>\n",
              "    .dataframe tbody tr th:only-of-type {\n",
              "        vertical-align: middle;\n",
              "    }\n",
              "\n",
              "    .dataframe tbody tr th {\n",
              "        vertical-align: top;\n",
              "    }\n",
              "\n",
              "    .dataframe thead th {\n",
              "        text-align: right;\n",
              "    }\n",
              "</style>\n",
              "<table border=\"1\" class=\"dataframe\">\n",
              "  <thead>\n",
              "    <tr style=\"text-align: right;\">\n",
              "      <th></th>\n",
              "      <th>valor</th>\n",
              "    </tr>\n",
              "    <tr>\n",
              "      <th>data</th>\n",
              "      <th></th>\n",
              "    </tr>\n",
              "  </thead>\n",
              "  <tbody>\n",
              "    <tr>\n",
              "      <th>2019-12-01</th>\n",
              "      <td>1.94</td>\n",
              "    </tr>\n",
              "    <tr>\n",
              "      <th>2020-01-01</th>\n",
              "      <td>-0.28</td>\n",
              "    </tr>\n",
              "    <tr>\n",
              "      <th>2020-02-01</th>\n",
              "      <td>0.02</td>\n",
              "    </tr>\n",
              "    <tr>\n",
              "      <th>2020-03-01</th>\n",
              "      <td>0.14</td>\n",
              "    </tr>\n",
              "    <tr>\n",
              "      <th>2020-04-01</th>\n",
              "      <td>-0.25</td>\n",
              "    </tr>\n",
              "    <tr>\n",
              "      <th>2020-05-01</th>\n",
              "      <td>0.05</td>\n",
              "    </tr>\n",
              "    <tr>\n",
              "      <th>2020-06-01</th>\n",
              "      <td>0.43</td>\n",
              "    </tr>\n",
              "    <tr>\n",
              "      <th>2020-07-01</th>\n",
              "      <td>0.63</td>\n",
              "    </tr>\n",
              "    <tr>\n",
              "      <th>2020-08-01</th>\n",
              "      <td>0.71</td>\n",
              "    </tr>\n",
              "    <tr>\n",
              "      <th>2020-09-01</th>\n",
              "      <td>1.51</td>\n",
              "    </tr>\n",
              "  </tbody>\n",
              "</table>\n",
              "</div>"
            ],
            "text/plain": [
              "            valor\n",
              "data             \n",
              "2019-12-01   1.94\n",
              "2020-01-01  -0.28\n",
              "2020-02-01   0.02\n",
              "2020-03-01   0.14\n",
              "2020-04-01  -0.25\n",
              "2020-05-01   0.05\n",
              "2020-06-01   0.43\n",
              "2020-07-01   0.63\n",
              "2020-08-01   0.71\n",
              "2020-09-01   1.51"
            ]
          },
          "metadata": {
            "tags": []
          },
          "execution_count": 29
        }
      ]
    },
    {
      "cell_type": "code",
      "metadata": {
        "id": "Wp7HgxyCDzzh",
        "colab": {
          "base_uri": "https://localhost:8080/",
          "height": 450
        },
        "outputId": "662443bf-3fc5-4c1d-c6d7-ee7f24ffcb2f"
      },
      "source": [
        "ipca.select_dtypes(include=['int','float'])"
      ],
      "execution_count": null,
      "outputs": [
        {
          "output_type": "execute_result",
          "data": {
            "text/html": [
              "<div>\n",
              "<style scoped>\n",
              "    .dataframe tbody tr th:only-of-type {\n",
              "        vertical-align: middle;\n",
              "    }\n",
              "\n",
              "    .dataframe tbody tr th {\n",
              "        vertical-align: top;\n",
              "    }\n",
              "\n",
              "    .dataframe thead th {\n",
              "        text-align: right;\n",
              "    }\n",
              "</style>\n",
              "<table border=\"1\" class=\"dataframe\">\n",
              "  <thead>\n",
              "    <tr style=\"text-align: right;\">\n",
              "      <th></th>\n",
              "      <th>valor</th>\n",
              "    </tr>\n",
              "    <tr>\n",
              "      <th>data</th>\n",
              "      <th></th>\n",
              "    </tr>\n",
              "  </thead>\n",
              "  <tbody>\n",
              "    <tr>\n",
              "      <th>1992-01-01</th>\n",
              "      <td>24.81</td>\n",
              "    </tr>\n",
              "    <tr>\n",
              "      <th>1992-02-01</th>\n",
              "      <td>24.23</td>\n",
              "    </tr>\n",
              "    <tr>\n",
              "      <th>1992-03-01</th>\n",
              "      <td>21.14</td>\n",
              "    </tr>\n",
              "    <tr>\n",
              "      <th>1992-04-01</th>\n",
              "      <td>21.11</td>\n",
              "    </tr>\n",
              "    <tr>\n",
              "      <th>1992-05-01</th>\n",
              "      <td>26.08</td>\n",
              "    </tr>\n",
              "    <tr>\n",
              "      <th>...</th>\n",
              "      <td>...</td>\n",
              "    </tr>\n",
              "    <tr>\n",
              "      <th>2020-05-01</th>\n",
              "      <td>0.05</td>\n",
              "    </tr>\n",
              "    <tr>\n",
              "      <th>2020-06-01</th>\n",
              "      <td>0.43</td>\n",
              "    </tr>\n",
              "    <tr>\n",
              "      <th>2020-07-01</th>\n",
              "      <td>0.63</td>\n",
              "    </tr>\n",
              "    <tr>\n",
              "      <th>2020-08-01</th>\n",
              "      <td>0.71</td>\n",
              "    </tr>\n",
              "    <tr>\n",
              "      <th>2020-09-01</th>\n",
              "      <td>1.51</td>\n",
              "    </tr>\n",
              "  </tbody>\n",
              "</table>\n",
              "<p>345 rows × 1 columns</p>\n",
              "</div>"
            ],
            "text/plain": [
              "            valor\n",
              "data             \n",
              "1992-01-01  24.81\n",
              "1992-02-01  24.23\n",
              "1992-03-01  21.14\n",
              "1992-04-01  21.11\n",
              "1992-05-01  26.08\n",
              "...           ...\n",
              "2020-05-01   0.05\n",
              "2020-06-01   0.43\n",
              "2020-07-01   0.63\n",
              "2020-08-01   0.71\n",
              "2020-09-01   1.51\n",
              "\n",
              "[345 rows x 1 columns]"
            ]
          },
          "metadata": {
            "tags": []
          },
          "execution_count": 34
        }
      ]
    },
    {
      "cell_type": "code",
      "metadata": {
        "id": "2wVhVxI_EVrO",
        "colab": {
          "base_uri": "https://localhost:8080/",
          "height": 153
        },
        "outputId": "9ce7182f-48bc-4aaf-a614-1c838ee7c032"
      },
      "source": [
        "print(ipca.index)"
      ],
      "execution_count": null,
      "outputs": [
        {
          "output_type": "stream",
          "text": [
            "DatetimeIndex(['1992-01-01', '1992-02-01', '1992-03-01', '1992-04-01',\n",
            "               '1992-05-01', '1992-06-01', '1992-07-01', '1992-08-01',\n",
            "               '1992-09-01', '1992-10-01',\n",
            "               ...\n",
            "               '2019-12-01', '2020-01-01', '2020-02-01', '2020-03-01',\n",
            "               '2020-04-01', '2020-05-01', '2020-06-01', '2020-07-01',\n",
            "               '2020-08-01', '2020-09-01'],\n",
            "              dtype='datetime64[ns]', name='data', length=345, freq=None)\n"
          ],
          "name": "stdout"
        }
      ]
    },
    {
      "cell_type": "code",
      "metadata": {
        "id": "jVmO_CEVGsSM",
        "colab": {
          "base_uri": "https://localhost:8080/",
          "height": 433
        },
        "outputId": "1aa060c8-592b-40e2-f706-37bb4caea685"
      },
      "source": [
        "ipca.select_dtypes(include=['object'])"
      ],
      "execution_count": null,
      "outputs": [
        {
          "output_type": "execute_result",
          "data": {
            "text/html": [
              "<div>\n",
              "<style scoped>\n",
              "    .dataframe tbody tr th:only-of-type {\n",
              "        vertical-align: middle;\n",
              "    }\n",
              "\n",
              "    .dataframe tbody tr th {\n",
              "        vertical-align: top;\n",
              "    }\n",
              "\n",
              "    .dataframe thead th {\n",
              "        text-align: right;\n",
              "    }\n",
              "</style>\n",
              "<table border=\"1\" class=\"dataframe\">\n",
              "  <thead>\n",
              "    <tr style=\"text-align: right;\">\n",
              "      <th></th>\n",
              "    </tr>\n",
              "    <tr>\n",
              "      <th>data</th>\n",
              "    </tr>\n",
              "  </thead>\n",
              "  <tbody>\n",
              "    <tr>\n",
              "      <th>1992-01-01</th>\n",
              "    </tr>\n",
              "    <tr>\n",
              "      <th>1992-02-01</th>\n",
              "    </tr>\n",
              "    <tr>\n",
              "      <th>1992-03-01</th>\n",
              "    </tr>\n",
              "    <tr>\n",
              "      <th>1992-04-01</th>\n",
              "    </tr>\n",
              "    <tr>\n",
              "      <th>1992-05-01</th>\n",
              "    </tr>\n",
              "    <tr>\n",
              "      <th>...</th>\n",
              "    </tr>\n",
              "    <tr>\n",
              "      <th>2020-05-01</th>\n",
              "    </tr>\n",
              "    <tr>\n",
              "      <th>2020-06-01</th>\n",
              "    </tr>\n",
              "    <tr>\n",
              "      <th>2020-07-01</th>\n",
              "    </tr>\n",
              "    <tr>\n",
              "      <th>2020-08-01</th>\n",
              "    </tr>\n",
              "    <tr>\n",
              "      <th>2020-09-01</th>\n",
              "    </tr>\n",
              "  </tbody>\n",
              "</table>\n",
              "<p>345 rows × 0 columns</p>\n",
              "</div>"
            ],
            "text/plain": [
              "Empty DataFrame\n",
              "Columns: []\n",
              "Index: [1992-01-01 00:00:00, 1992-02-01 00:00:00, 1992-03-01 00:00:00, 1992-04-01 00:00:00, 1992-05-01 00:00:00, 1992-06-01 00:00:00, 1992-07-01 00:00:00, 1992-08-01 00:00:00, 1992-09-01 00:00:00, 1992-10-01 00:00:00, 1992-11-01 00:00:00, 1992-12-01 00:00:00, 1993-01-01 00:00:00, 1993-02-01 00:00:00, 1993-03-01 00:00:00, 1993-04-01 00:00:00, 1993-05-01 00:00:00, 1993-06-01 00:00:00, 1993-07-01 00:00:00, 1993-08-01 00:00:00, 1993-09-01 00:00:00, 1993-10-01 00:00:00, 1993-11-01 00:00:00, 1993-12-01 00:00:00, 1994-01-01 00:00:00, 1994-02-01 00:00:00, 1994-03-01 00:00:00, 1994-04-01 00:00:00, 1994-05-01 00:00:00, 1994-06-01 00:00:00, 1994-07-01 00:00:00, 1994-08-01 00:00:00, 1994-09-01 00:00:00, 1994-10-01 00:00:00, 1994-11-01 00:00:00, 1994-12-01 00:00:00, 1995-01-01 00:00:00, 1995-02-01 00:00:00, 1995-03-01 00:00:00, 1995-04-01 00:00:00, 1995-05-01 00:00:00, 1995-06-01 00:00:00, 1995-07-01 00:00:00, 1995-08-01 00:00:00, 1995-09-01 00:00:00, 1995-10-01 00:00:00, 1995-11-01 00:00:00, 1995-12-01 00:00:00, 1996-01-01 00:00:00, 1996-02-01 00:00:00, 1996-03-01 00:00:00, 1996-04-01 00:00:00, 1996-05-01 00:00:00, 1996-06-01 00:00:00, 1996-07-01 00:00:00, 1996-08-01 00:00:00, 1996-09-01 00:00:00, 1996-10-01 00:00:00, 1996-11-01 00:00:00, 1996-12-01 00:00:00, 1997-01-01 00:00:00, 1997-02-01 00:00:00, 1997-03-01 00:00:00, 1997-04-01 00:00:00, 1997-05-01 00:00:00, 1997-06-01 00:00:00, 1997-07-01 00:00:00, 1997-08-01 00:00:00, 1997-09-01 00:00:00, 1997-10-01 00:00:00, 1997-11-01 00:00:00, 1997-12-01 00:00:00, 1998-01-01 00:00:00, 1998-02-01 00:00:00, 1998-03-01 00:00:00, 1998-04-01 00:00:00, 1998-05-01 00:00:00, 1998-06-01 00:00:00, 1998-07-01 00:00:00, 1998-08-01 00:00:00, 1998-09-01 00:00:00, 1998-10-01 00:00:00, 1998-11-01 00:00:00, 1998-12-01 00:00:00, 1999-01-01 00:00:00, 1999-02-01 00:00:00, 1999-03-01 00:00:00, 1999-04-01 00:00:00, 1999-05-01 00:00:00, 1999-06-01 00:00:00, 1999-07-01 00:00:00, 1999-08-01 00:00:00, 1999-09-01 00:00:00, 1999-10-01 00:00:00, 1999-11-01 00:00:00, 1999-12-01 00:00:00, 2000-01-01 00:00:00, 2000-02-01 00:00:00, 2000-03-01 00:00:00, 2000-04-01 00:00:00, ...]\n",
              "\n",
              "[345 rows x 0 columns]"
            ]
          },
          "metadata": {
            "tags": []
          },
          "execution_count": 38
        }
      ]
    }
  ]
}